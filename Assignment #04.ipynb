{
 "cells": [
  {
   "cell_type": "code",
   "execution_count": 1,
   "metadata": {},
   "outputs": [
    {
     "name": "stdout",
     "output_type": "stream",
     "text": [
      "{'first_name': 'Abdul ', 'last_name': 'Rehman', 'age': 18, 'city': 'Karachi'}\n",
      "{'first_name': 'Abdul ', 'last_name': 'Rehman', 'age': 18, 'city': 'Karachi', 'Qualification': 'Intermediate'}\n",
      "{'first_name': 'Abdul ', 'last_name': 'Rehman', 'age': 18, 'city': 'Karachi'}\n"
     ]
    }
   ],
   "source": [
    "#Question (1)\n",
    "\n",
    "lst = {\"first_name\":\"Abdul \",\"last_name\":\"Rehman\",\"age\":18,\"city\":\"Karachi\"}\n",
    "print(lst)\n",
    "lst[\"Qualification\"] = \"Intermediate\"\n",
    "print(lst)\n",
    "del lst[\"Qualification\"]\n",
    "print(lst)"
   ]
  },
  {
   "cell_type": "code",
   "execution_count": 2,
   "metadata": {},
   "outputs": [
    {
     "name": "stdout",
     "output_type": "stream",
     "text": [
      "('Karachi', {'Country': 'Pakistan', 'Population': '14.91 Million', 'Fact': 'Centre of all civilazations'})\n",
      "('Lahore', {'country': 'Pakistan', 'Population': '11.13 Million', 'Fact': 'It has Badshahi Masjid'})\n",
      "('Sialkot', {'country': 'Pakistan', 'Population': '3.204 Million', 'Fact': 'It has a clock tower in the center of eight bazars'})\n"
     ]
    }
   ],
   "source": [
    "#Question (2)\n",
    "\n",
    "city = {\"Karachi\":{\"Country\":\"Pakistan\",\"Population\":\"14.91 Million\",\"Fact\":\"Centre of all civilazations\"},\n",
    "        \"Lahore\":{\"country\":\"Pakistan\",\"Population\":\"11.13 Million\",'Fact':\"It has Badshahi Masjid\"},\n",
    "       \"Sialkot\":{\"country\":\"Pakistan\",\"Population\":\"3.204 Million\",\"Fact\":\"It has a clock tower in the center of eight bazars\"}}\n",
    "for info in city.items():\n",
    "    print(info)"
   ]
  },
  {
   "cell_type": "code",
   "execution_count": 3,
   "metadata": {},
   "outputs": [
    {
     "name": "stdout",
     "output_type": "stream",
     "text": [
      "How old are you?18\n",
      "Your ticket is $15\n"
     ]
    }
   ],
   "source": [
    "#Question(3)\n",
    "\n",
    "for i in range(3):\n",
    "    age = int(input(\"How old are you?\"))\n",
    "    if age <=3:\n",
    "        print(\"Your ticket is free\")\n",
    "        break\n",
    "    if age >3 and age <=12:\n",
    "        print(\"Your ticket is $10\")\n",
    "        break\n",
    "    if age > 12:\n",
    "        print(\"Your ticket is $15\")\n",
    "        break"
   ]
  },
  {
   "cell_type": "code",
   "execution_count": 4,
   "metadata": {},
   "outputs": [
    {
     "data": {
      "text/plain": [
       "('One of my favourite book is', 'Alice in Wonderland.')"
      ]
     },
     "execution_count": 4,
     "metadata": {},
     "output_type": "execute_result"
    }
   ],
   "source": [
    "#Question(4)\n",
    "\n",
    "def fav_book(title):\n",
    "    return \"One of my favourite book is\",title\n",
    "fav_book('Alice in Wonderland.')"
   ]
  },
  {
   "cell_type": "code",
   "execution_count": null,
   "metadata": {},
   "outputs": [],
   "source": []
  }
 ],
 "metadata": {
  "kernelspec": {
   "display_name": "Python 3",
   "language": "python",
   "name": "python3"
  },
  "language_info": {
   "codemirror_mode": {
    "name": "ipython",
    "version": 3
   },
   "file_extension": ".py",
   "mimetype": "text/x-python",
   "name": "python",
   "nbconvert_exporter": "python",
   "pygments_lexer": "ipython3",
   "version": "3.7.4"
  }
 },
 "nbformat": 4,
 "nbformat_minor": 2
}
